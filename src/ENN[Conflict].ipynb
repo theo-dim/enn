{
 "nbformat": 4,
 "nbformat_minor": 0,
 "metadata": {
  "accelerator": "GPU",
  "colab": {
   "name": "main.ipynb",
   "provenance": [],
   "collapsed_sections": [],
   "machine_shape": "hm",
   "authorship_tag": "ABX9TyNk1qZ6a9XY8slc95my9N9b"
  },
  "kernelspec": {
   "name": "python3",
   "language": "python",
   "display_name": "Python 3"
  }
 },
 "cells": [
  {
   "cell_type": "code",
   "metadata": {
    "id": "VTkNbNRwr1qF",
    "executionInfo": {
     "status": "ok",
     "timestamp": 1606950915319,
     "user_tz": 300,
     "elapsed": 318,
     "user": {
      "displayName": "Theo Dimitrasopoulos",
      "photoUrl": "https://lh3.googleusercontent.com/a-/AOh14GhRNhCMR9OSve5rpYHqQ5AxXHb4FT75fg51p-tfkA=s64",
      "userId": "13959094896036405890"
     }
    }
   },
   "source": [
    "import random\n",
    "import numpy as np\n",
    "import pandas as pd\n",
    "from keras.layers import Dense\n",
    "from keras.models import Sequential\n",
    "from sklearn.metrics import accuracy_score\n",
    "from sklearn.model_selection import train_test_split\n",
    "import numpy as np\n",
    "import pandas_datareader.data as web\n",
    "import matplotlib.pyplot as plt"
   ],
   "execution_count": 1,
   "outputs": [
    {
     "name": "stderr",
     "output_type": "stream",
     "text": [
      "Using TensorFlow backend.\n",
      "C:\\Users\\theon\\anaconda3\\envs\\fe690\\lib\\site-packages\\tensorflow\\python\\framework\\dtypes.py:516: FutureWarning: Passing (type, 1) or '1type' as a synonym of type is deprecated; in a future version of numpy, it will be understood as (type, (1,)) / '(1,)type'.\n",
      "  _np_qint8 = np.dtype([(\"qint8\", np.int8, 1)])\n",
      "C:\\Users\\theon\\anaconda3\\envs\\fe690\\lib\\site-packages\\tensorflow\\python\\framework\\dtypes.py:517: FutureWarning: Passing (type, 1) or '1type' as a synonym of type is deprecated; in a future version of numpy, it will be understood as (type, (1,)) / '(1,)type'.\n",
      "  _np_quint8 = np.dtype([(\"quint8\", np.uint8, 1)])\n",
      "C:\\Users\\theon\\anaconda3\\envs\\fe690\\lib\\site-packages\\tensorflow\\python\\framework\\dtypes.py:518: FutureWarning: Passing (type, 1) or '1type' as a synonym of type is deprecated; in a future version of numpy, it will be understood as (type, (1,)) / '(1,)type'.\n",
      "  _np_qint16 = np.dtype([(\"qint16\", np.int16, 1)])\n",
      "C:\\Users\\theon\\anaconda3\\envs\\fe690\\lib\\site-packages\\tensorflow\\python\\framework\\dtypes.py:519: FutureWarning: Passing (type, 1) or '1type' as a synonym of type is deprecated; in a future version of numpy, it will be understood as (type, (1,)) / '(1,)type'.\n",
      "  _np_quint16 = np.dtype([(\"quint16\", np.uint16, 1)])\n",
      "C:\\Users\\theon\\anaconda3\\envs\\fe690\\lib\\site-packages\\tensorflow\\python\\framework\\dtypes.py:520: FutureWarning: Passing (type, 1) or '1type' as a synonym of type is deprecated; in a future version of numpy, it will be understood as (type, (1,)) / '(1,)type'.\n",
      "  _np_qint32 = np.dtype([(\"qint32\", np.int32, 1)])\n",
      "C:\\Users\\theon\\anaconda3\\envs\\fe690\\lib\\site-packages\\tensorflow\\python\\framework\\dtypes.py:525: FutureWarning: Passing (type, 1) or '1type' as a synonym of type is deprecated; in a future version of numpy, it will be understood as (type, (1,)) / '(1,)type'.\n",
      "  np_resource = np.dtype([(\"resource\", np.ubyte, 1)])\n",
      "C:\\Users\\theon\\anaconda3\\envs\\fe690\\lib\\site-packages\\tensorboard\\compat\\tensorflow_stub\\dtypes.py:541: FutureWarning: Passing (type, 1) or '1type' as a synonym of type is deprecated; in a future version of numpy, it will be understood as (type, (1,)) / '(1,)type'.\n",
      "  _np_qint8 = np.dtype([(\"qint8\", np.int8, 1)])\n",
      "C:\\Users\\theon\\anaconda3\\envs\\fe690\\lib\\site-packages\\tensorboard\\compat\\tensorflow_stub\\dtypes.py:542: FutureWarning: Passing (type, 1) or '1type' as a synonym of type is deprecated; in a future version of numpy, it will be understood as (type, (1,)) / '(1,)type'.\n",
      "  _np_quint8 = np.dtype([(\"quint8\", np.uint8, 1)])\n",
      "C:\\Users\\theon\\anaconda3\\envs\\fe690\\lib\\site-packages\\tensorboard\\compat\\tensorflow_stub\\dtypes.py:543: FutureWarning: Passing (type, 1) or '1type' as a synonym of type is deprecated; in a future version of numpy, it will be understood as (type, (1,)) / '(1,)type'.\n",
      "  _np_qint16 = np.dtype([(\"qint16\", np.int16, 1)])\n",
      "C:\\Users\\theon\\anaconda3\\envs\\fe690\\lib\\site-packages\\tensorboard\\compat\\tensorflow_stub\\dtypes.py:544: FutureWarning: Passing (type, 1) or '1type' as a synonym of type is deprecated; in a future version of numpy, it will be understood as (type, (1,)) / '(1,)type'.\n",
      "  _np_quint16 = np.dtype([(\"quint16\", np.uint16, 1)])\n",
      "C:\\Users\\theon\\anaconda3\\envs\\fe690\\lib\\site-packages\\tensorboard\\compat\\tensorflow_stub\\dtypes.py:545: FutureWarning: Passing (type, 1) or '1type' as a synonym of type is deprecated; in a future version of numpy, it will be understood as (type, (1,)) / '(1,)type'.\n",
      "  _np_qint32 = np.dtype([(\"qint32\", np.int32, 1)])\n",
      "C:\\Users\\theon\\anaconda3\\envs\\fe690\\lib\\site-packages\\tensorboard\\compat\\tensorflow_stub\\dtypes.py:550: FutureWarning: Passing (type, 1) or '1type' as a synonym of type is deprecated; in a future version of numpy, it will be understood as (type, (1,)) / '(1,)type'.\n",
      "  np_resource = np.dtype([(\"resource\", np.ubyte, 1)])\n"
     ]
    }
   ]
  },
  {
   "cell_type": "code",
   "metadata": {
    "id": "SgGs45istKvq",
    "executionInfo": {
     "status": "ok",
     "timestamp": 1606950915606,
     "user_tz": 300,
     "elapsed": 600,
     "user": {
      "displayName": "Theo Dimitrasopoulos",
      "photoUrl": "https://lh3.googleusercontent.com/a-/AOh14GhRNhCMR9OSve5rpYHqQ5AxXHb4FT75fg51p-tfkA=s64",
      "userId": "13959094896036405890"
     }
    }
   },
   "source": [
    "class ENN(Sequential):\n",
    "    def __init__(self, wts_sub=None):\n",
    "        super().__init__()\n",
    "        if wts_sub is None:\n",
    "            layer1 = Dense(1, input_shape=(1,), activation='sigmoid')\n",
    "            layer2 = Dense(3, activation='sigmoid')\n",
    "            layer3 = Dense(3, activation='sigmoid')\n",
    "            layer4 = Dense(3, activation='sigmoid')\n",
    "            layer5 = Dense(1, activation='sigmoid')\n",
    "            self.add(layer1)\n",
    "            self.add(layer2)\n",
    "            self.add(layer3)\n",
    "            self.add(layer4)\n",
    "            self.add(layer5)\n",
    "        else:\n",
    "            self.add(Dense(1,input_shape=(1,),activation='sigmoid',weights=[wts_sub[0], np.zeros(1)]))\n",
    "            self.add(Dense(3,activation='sigmoid',weights=[wts_sub[1], np.zeros(3)]))\n",
    "            self.add(Dense(3,activation='sigmoid',weights=[wts_sub[2], np.zeros(3)]))\n",
    "            self.add(Dense(3,activation='sigmoid',weights=[wts_sub[3], np.zeros(3)]))\n",
    "            self.add(Dense(1,activation='sigmoid',weights=[wts_sub[4], np.zeros(1)]))\n",
    "\n",
    "    def f_propagation(self, X_train, y_train):\n",
    "        y_predicted = self.predict(X_train.values)\n",
    "        self.fitness = accuracy_score(y_train, y_predicted.round())\n",
    "\n",
    "    def train(self, epochs):\n",
    "        self.compile(optimizer='rmsprop',loss='binary_crossentropy',metrics=['accuracy'])\n",
    "        self.fit(X_train.values, y_train.values, epochs=epochs)\n",
    "\n",
    "def mutation(wts_sub):\n",
    "    choose = random.randint(0, len(wts_sub)-1)\n",
    "    mut = random.uniform(0, 1)\n",
    "    if mut >= .5:\n",
    "        wts_sub[choose] *= random.randint(2, 5)\n",
    "    else:\n",
    "        pass\n",
    "\n",
    "def cross(nn1, nn2):\n",
    "    nn1_weights = []\n",
    "    nn2_weights = []\n",
    "    wts_sub = []\n",
    "    for layer in nn1.layers:\n",
    "        nn1_weights.append(layer.get_weights()[0])\n",
    "\n",
    "    for layer in nn2.layers:\n",
    "        nn2_weights.append(layer.get_weights()[0])\n",
    "\n",
    "    for i in range(0, len(nn1_weights)):\n",
    "        split = random.randint(0, np.shape(nn1_weights[i])[1]-1)\n",
    "        for j in range(split, np.shape(nn1_weights[i])[1]-1):\n",
    "            nn1_weights[i][:, j] = nn2_weights[i][:, j]\n",
    "\n",
    "        wts_sub.append(nn1_weights[i])\n",
    "\n",
    "    mutation(wts_sub)\n",
    "\n",
    "    child = ENN(wts_sub)\n",
    "    return child\n"
   ],
   "execution_count": 2,
   "outputs": []
  },
  {
   "cell_type": "code",
   "metadata": {
    "colab": {
     "base_uri": "https://localhost:8080/",
     "height": 402
    },
    "id": "SncEefl_tPNe",
    "executionInfo": {
     "status": "ok",
     "timestamp": 1606950916118,
     "user_tz": 300,
     "elapsed": 1091,
     "user": {
      "displayName": "Theo Dimitrasopoulos",
      "photoUrl": "https://lh3.googleusercontent.com/a-/AOh14GhRNhCMR9OSve5rpYHqQ5AxXHb4FT75fg51p-tfkA=s64",
      "userId": "13959094896036405890"
     }
    },
    "outputId": "762af535-c96b-45c3-a6ed-b5cbf9f829fc"
   },
   "source": [
    "prices = pd.DataFrame()\n",
    "tickers = ['^DJI']\n",
    "for i in tickers:\n",
    "    tmp = web.DataReader(i, 'yahoo', '1/1/2007', '01/12/2020')\n",
    "    prices[i] = tmp['Adj Close']\n",
    "\n",
    "prices['Percent Change'] = prices.pct_change()\n",
    "\n",
    "def set_signal(column):\n",
    "    if column['Percent Change'] < -0.0050:\n",
    "        signal = -1\n",
    "    elif column['Percent Change'] > 0.0050:\n",
    "        signal = 1\n",
    "    else:\n",
    "        signal = 0\n",
    "    return signal\n",
    "\n",
    "prices['Liquidate'] = prices.apply(set_signal, axis=1)\n",
    "prices = prices.replace(np.nan,0)\n",
    "prices = prices.drop(['^DJI'], axis=1)\n",
    "prices.reset_index(inplace=True,drop=True)\n",
    "prices"
   ],
   "execution_count": 3,
   "outputs": [
    {
     "data": {
      "text/plain": "      Percent Change  Liquidate\n0           0.000000          0\n1           0.000495          0\n2          -0.006625         -1\n3           0.002055          0\n4          -0.000555          0\n...              ...        ...\n3274        0.002392          0\n3275       -0.004170          0\n3276        0.005647          1\n3277        0.007369          1\n3278       -0.004598          0\n\n[3279 rows x 2 columns]",
      "text/html": "<div>\n<style scoped>\n    .dataframe tbody tr th:only-of-type {\n        vertical-align: middle;\n    }\n\n    .dataframe tbody tr th {\n        vertical-align: top;\n    }\n\n    .dataframe thead th {\n        text-align: right;\n    }\n</style>\n<table border=\"1\" class=\"dataframe\">\n  <thead>\n    <tr style=\"text-align: right;\">\n      <th></th>\n      <th>Percent Change</th>\n      <th>Liquidate</th>\n    </tr>\n  </thead>\n  <tbody>\n    <tr>\n      <th>0</th>\n      <td>0.000000</td>\n      <td>0</td>\n    </tr>\n    <tr>\n      <th>1</th>\n      <td>0.000495</td>\n      <td>0</td>\n    </tr>\n    <tr>\n      <th>2</th>\n      <td>-0.006625</td>\n      <td>-1</td>\n    </tr>\n    <tr>\n      <th>3</th>\n      <td>0.002055</td>\n      <td>0</td>\n    </tr>\n    <tr>\n      <th>4</th>\n      <td>-0.000555</td>\n      <td>0</td>\n    </tr>\n    <tr>\n      <th>...</th>\n      <td>...</td>\n      <td>...</td>\n    </tr>\n    <tr>\n      <th>3274</th>\n      <td>0.002392</td>\n      <td>0</td>\n    </tr>\n    <tr>\n      <th>3275</th>\n      <td>-0.004170</td>\n      <td>0</td>\n    </tr>\n    <tr>\n      <th>3276</th>\n      <td>0.005647</td>\n      <td>1</td>\n    </tr>\n    <tr>\n      <th>3277</th>\n      <td>0.007369</td>\n      <td>1</td>\n    </tr>\n    <tr>\n      <th>3278</th>\n      <td>-0.004598</td>\n      <td>0</td>\n    </tr>\n  </tbody>\n</table>\n<p>3279 rows × 2 columns</p>\n</div>"
     },
     "execution_count": 3,
     "metadata": {},
     "output_type": "execute_result"
    }
   ]
  },
  {
   "cell_type": "code",
   "metadata": {
    "colab": {
     "base_uri": "https://localhost:8080/"
    },
    "id": "I1rZrGHVubrW",
    "executionInfo": {
     "status": "ok",
     "timestamp": 1606950916119,
     "user_tz": 300,
     "elapsed": 1085,
     "user": {
      "displayName": "Theo Dimitrasopoulos",
      "photoUrl": "https://lh3.googleusercontent.com/a-/AOh14GhRNhCMR9OSve5rpYHqQ5AxXHb4FT75fg51p-tfkA=s64",
      "userId": "13959094896036405890"
     }
    },
    "outputId": "421063ee-8cc3-4c35-aabc-f6fba3a06ab1"
   },
   "source": [
    "X = prices['Percent Change']\n",
    "X = 100*X.round(8)\n",
    "X = X.astype(np.float32)\n",
    "print(X.astype(np.float32))\n",
    "y = prices.drop(['Percent Change'], axis=1)\n",
    "#y = y.astype(np.float32)\n",
    "print(y)\n",
    "X_train, X_test, y_train, y_test = train_test_split(X, y)"
   ],
   "execution_count": 4,
   "outputs": [
    {
     "name": "stdout",
     "output_type": "stream",
     "text": [
      "0       0.000000\n",
      "1       0.049468\n",
      "2      -0.662469\n",
      "3       0.205521\n",
      "4      -0.055464\n",
      "          ...   \n",
      "3274    0.239219\n",
      "3275   -0.417028\n",
      "3276    0.564693\n",
      "3277    0.736858\n",
      "3278   -0.459755\n",
      "Name: Percent Change, Length: 3279, dtype: float32\n",
      "      Liquidate\n",
      "0             0\n",
      "1             0\n",
      "2            -1\n",
      "3             0\n",
      "4             0\n",
      "...         ...\n",
      "3274          0\n",
      "3275          0\n",
      "3276          1\n",
      "3277          1\n",
      "3278          0\n",
      "\n",
      "[3279 rows x 1 columns]\n"
     ]
    }
   ]
  },
  {
   "cell_type": "code",
   "metadata": {
    "colab": {
     "base_uri": "https://localhost:8080/",
     "height": 874
    },
    "id": "aRDt17USuwJP",
    "executionInfo": {
     "status": "error",
     "timestamp": 1606950952200,
     "user_tz": 300,
     "elapsed": 37159,
     "user": {
      "displayName": "Theo Dimitrasopoulos",
      "photoUrl": "https://lh3.googleusercontent.com/a-/AOh14GhRNhCMR9OSve5rpYHqQ5AxXHb4FT75fg51p-tfkA=s64",
      "userId": "13959094896036405890"
     }
    },
    "outputId": "1cacfe02-d399-4b12-a5ca-8f6ce8f28b9f"
   },
   "source": [
    "networks = []\n",
    "pool = []\n",
    "gen = 0\n",
    "n = 20\n",
    "\n",
    "for i in range(0, n):\n",
    "    networks.append(ENN())\n",
    "\n",
    "fit_max = 0\n",
    "\n",
    "wts_opt = []\n",
    "\n",
    "while fit_max < .9:\n",
    "    gen += 1\n",
    "    print('Generation', gen)\n",
    "\n",
    "    for nn in networks:\n",
    "        nn.f_propagation(X_train, y_train)\n",
    "        pool.append(nn)\n",
    "\n",
    "    networks.clear()\n",
    "\n",
    "    pool = sorted(pool, key=lambda x: x.fitness)\n",
    "    pool.reverse()\n",
    "\n",
    "    for i in range(0, len(pool)):\n",
    "        if pool[i].fitness > fit_max:\n",
    "            fit_max = pool[i].fitness\n",
    "            print('Fitness Score: ', fit_max)\n",
    "            wts_opt = []\n",
    "            for layer in pool[i].layers:\n",
    "              wts_opt.append(layer.get_weights()[0])\n",
    "            print(wts_opt)\n",
    "\n",
    "    for i in range(0, 5):\n",
    "        for j in range(0, 2):\n",
    "            temp = cross(pool[i], random.choice(pool))\n",
    "            networks.append(temp)\n",
    "\n",
    "portfolio_enn = ENN(wts_opt)\n",
    "portfolio_enn.train(10)\n",
    "y_predicted = portfolio_enn.predict(X_test.values)\n",
    "print('Accuracy: %.2f' % accuracy_score(y_test, y_predicted.round()))"
   ],
   "execution_count": 5,
   "outputs": [
    {
     "name": "stdout",
     "output_type": "stream",
     "text": [
      "Generation 1\n",
      "WARNING:tensorflow:From C:\\Users\\theon\\anaconda3\\envs\\fe690\\lib\\site-packages\\keras\\backend\\tensorflow_backend.py:422: The name tf.global_variables is deprecated. Please use tf.compat.v1.global_variables instead.\n",
      "\n",
      "Fitness Score:  0.5380235868239122\n",
      "[array([[-0.21812141]], dtype=float32), array([[-1.0365199 ,  0.03454554, -0.9117556 ]], dtype=float32), array([[-0.4792323 ,  0.33170152,  0.70914006],\n",
      "       [ 0.05380654, -0.51915264, -0.17066836],\n",
      "       [-0.90767336,  0.74000216,  0.44894147]], dtype=float32), array([[-0.8777945 , -0.83163595,  0.3533554 ],\n",
      "       [-0.2722788 ,  0.31513882,  0.40088868],\n",
      "       [ 0.57934666,  0.21263385,  0.8258946 ]], dtype=float32), array([[ 0.98263586],\n",
      "       [-0.72138554],\n",
      "       [-1.1842241 ]], dtype=float32)]\n",
      "Generation 2\n",
      "Generation 3\n",
      "Generation 4\n"
     ]
    },
    {
     "ename": "KeyboardInterrupt",
     "evalue": "",
     "output_type": "error",
     "traceback": [
      "\u001B[1;31m---------------------------------------------------------------------------\u001B[0m",
      "\u001B[1;31mKeyboardInterrupt\u001B[0m                         Traceback (most recent call last)",
      "\u001B[1;32m<ipython-input-5-8497ff6a4281>\u001B[0m in \u001B[0;36m<module>\u001B[1;34m\u001B[0m\n\u001B[0;32m     16\u001B[0m \u001B[1;33m\u001B[0m\u001B[0m\n\u001B[0;32m     17\u001B[0m     \u001B[1;32mfor\u001B[0m \u001B[0mnn\u001B[0m \u001B[1;32min\u001B[0m \u001B[0mnetworks\u001B[0m\u001B[1;33m:\u001B[0m\u001B[1;33m\u001B[0m\u001B[1;33m\u001B[0m\u001B[0m\n\u001B[1;32m---> 18\u001B[1;33m         \u001B[0mnn\u001B[0m\u001B[1;33m.\u001B[0m\u001B[0mf_propagation\u001B[0m\u001B[1;33m(\u001B[0m\u001B[0mX_train\u001B[0m\u001B[1;33m,\u001B[0m \u001B[0my_train\u001B[0m\u001B[1;33m)\u001B[0m\u001B[1;33m\u001B[0m\u001B[1;33m\u001B[0m\u001B[0m\n\u001B[0m\u001B[0;32m     19\u001B[0m         \u001B[0mpool\u001B[0m\u001B[1;33m.\u001B[0m\u001B[0mappend\u001B[0m\u001B[1;33m(\u001B[0m\u001B[0mnn\u001B[0m\u001B[1;33m)\u001B[0m\u001B[1;33m\u001B[0m\u001B[1;33m\u001B[0m\u001B[0m\n\u001B[0;32m     20\u001B[0m \u001B[1;33m\u001B[0m\u001B[0m\n",
      "\u001B[1;32m<ipython-input-2-f57575fcd63d>\u001B[0m in \u001B[0;36mf_propagation\u001B[1;34m(self, X_train, y_train)\u001B[0m\n\u001B[0;32m     21\u001B[0m \u001B[1;33m\u001B[0m\u001B[0m\n\u001B[0;32m     22\u001B[0m     \u001B[1;32mdef\u001B[0m \u001B[0mf_propagation\u001B[0m\u001B[1;33m(\u001B[0m\u001B[0mself\u001B[0m\u001B[1;33m,\u001B[0m \u001B[0mX_train\u001B[0m\u001B[1;33m,\u001B[0m \u001B[0my_train\u001B[0m\u001B[1;33m)\u001B[0m\u001B[1;33m:\u001B[0m\u001B[1;33m\u001B[0m\u001B[1;33m\u001B[0m\u001B[0m\n\u001B[1;32m---> 23\u001B[1;33m         \u001B[0my_predicted\u001B[0m \u001B[1;33m=\u001B[0m \u001B[0mself\u001B[0m\u001B[1;33m.\u001B[0m\u001B[0mpredict\u001B[0m\u001B[1;33m(\u001B[0m\u001B[0mX_train\u001B[0m\u001B[1;33m.\u001B[0m\u001B[0mvalues\u001B[0m\u001B[1;33m)\u001B[0m\u001B[1;33m\u001B[0m\u001B[1;33m\u001B[0m\u001B[0m\n\u001B[0m\u001B[0;32m     24\u001B[0m         \u001B[0mself\u001B[0m\u001B[1;33m.\u001B[0m\u001B[0mfitness\u001B[0m \u001B[1;33m=\u001B[0m \u001B[0maccuracy_score\u001B[0m\u001B[1;33m(\u001B[0m\u001B[0my_train\u001B[0m\u001B[1;33m,\u001B[0m \u001B[0my_predicted\u001B[0m\u001B[1;33m.\u001B[0m\u001B[0mround\u001B[0m\u001B[1;33m(\u001B[0m\u001B[1;33m)\u001B[0m\u001B[1;33m)\u001B[0m\u001B[1;33m\u001B[0m\u001B[1;33m\u001B[0m\u001B[0m\n\u001B[0;32m     25\u001B[0m \u001B[1;33m\u001B[0m\u001B[0m\n",
      "\u001B[1;32m~\\anaconda3\\envs\\fe690\\lib\\site-packages\\keras\\engine\\training.py\u001B[0m in \u001B[0;36mpredict\u001B[1;34m(self, x, batch_size, verbose, steps, callbacks, max_queue_size, workers, use_multiprocessing)\u001B[0m\n\u001B[0;32m   1460\u001B[0m                                             \u001B[0mverbose\u001B[0m\u001B[1;33m=\u001B[0m\u001B[0mverbose\u001B[0m\u001B[1;33m,\u001B[0m\u001B[1;33m\u001B[0m\u001B[1;33m\u001B[0m\u001B[0m\n\u001B[0;32m   1461\u001B[0m                                             \u001B[0msteps\u001B[0m\u001B[1;33m=\u001B[0m\u001B[0msteps\u001B[0m\u001B[1;33m,\u001B[0m\u001B[1;33m\u001B[0m\u001B[1;33m\u001B[0m\u001B[0m\n\u001B[1;32m-> 1462\u001B[1;33m                                             callbacks=callbacks)\n\u001B[0m\u001B[0;32m   1463\u001B[0m \u001B[1;33m\u001B[0m\u001B[0m\n\u001B[0;32m   1464\u001B[0m     def train_on_batch(self, x, y,\n",
      "\u001B[1;32m~\\anaconda3\\envs\\fe690\\lib\\site-packages\\keras\\engine\\training_arrays.py\u001B[0m in \u001B[0;36mpredict_loop\u001B[1;34m(model, f, ins, batch_size, verbose, steps, callbacks)\u001B[0m\n\u001B[0;32m    322\u001B[0m             \u001B[0mbatch_logs\u001B[0m \u001B[1;33m=\u001B[0m \u001B[1;33m{\u001B[0m\u001B[1;34m'batch'\u001B[0m\u001B[1;33m:\u001B[0m \u001B[0mbatch_index\u001B[0m\u001B[1;33m,\u001B[0m \u001B[1;34m'size'\u001B[0m\u001B[1;33m:\u001B[0m \u001B[0mlen\u001B[0m\u001B[1;33m(\u001B[0m\u001B[0mbatch_ids\u001B[0m\u001B[1;33m)\u001B[0m\u001B[1;33m}\u001B[0m\u001B[1;33m\u001B[0m\u001B[1;33m\u001B[0m\u001B[0m\n\u001B[0;32m    323\u001B[0m             \u001B[0mcallbacks\u001B[0m\u001B[1;33m.\u001B[0m\u001B[0m_call_batch_hook\u001B[0m\u001B[1;33m(\u001B[0m\u001B[1;34m'predict'\u001B[0m\u001B[1;33m,\u001B[0m \u001B[1;34m'begin'\u001B[0m\u001B[1;33m,\u001B[0m \u001B[0mbatch_index\u001B[0m\u001B[1;33m,\u001B[0m \u001B[0mbatch_logs\u001B[0m\u001B[1;33m)\u001B[0m\u001B[1;33m\u001B[0m\u001B[1;33m\u001B[0m\u001B[0m\n\u001B[1;32m--> 324\u001B[1;33m             \u001B[0mbatch_outs\u001B[0m \u001B[1;33m=\u001B[0m \u001B[0mf\u001B[0m\u001B[1;33m(\u001B[0m\u001B[0mins_batch\u001B[0m\u001B[1;33m)\u001B[0m\u001B[1;33m\u001B[0m\u001B[1;33m\u001B[0m\u001B[0m\n\u001B[0m\u001B[0;32m    325\u001B[0m             \u001B[0mbatch_outs\u001B[0m \u001B[1;33m=\u001B[0m \u001B[0mto_list\u001B[0m\u001B[1;33m(\u001B[0m\u001B[0mbatch_outs\u001B[0m\u001B[1;33m)\u001B[0m\u001B[1;33m\u001B[0m\u001B[1;33m\u001B[0m\u001B[0m\n\u001B[0;32m    326\u001B[0m             \u001B[1;32mif\u001B[0m \u001B[0mbatch_index\u001B[0m \u001B[1;33m==\u001B[0m \u001B[1;36m0\u001B[0m\u001B[1;33m:\u001B[0m\u001B[1;33m\u001B[0m\u001B[1;33m\u001B[0m\u001B[0m\n",
      "\u001B[1;32m~\\anaconda3\\envs\\fe690\\lib\\site-packages\\tensorflow\\python\\keras\\backend.py\u001B[0m in \u001B[0;36m__call__\u001B[1;34m(self, inputs)\u001B[0m\n\u001B[0;32m   3290\u001B[0m \u001B[1;33m\u001B[0m\u001B[0m\n\u001B[0;32m   3291\u001B[0m     fetched = self._callable_fn(*array_vals,\n\u001B[1;32m-> 3292\u001B[1;33m                                 run_metadata=self.run_metadata)\n\u001B[0m\u001B[0;32m   3293\u001B[0m     \u001B[0mself\u001B[0m\u001B[1;33m.\u001B[0m\u001B[0m_call_fetch_callbacks\u001B[0m\u001B[1;33m(\u001B[0m\u001B[0mfetched\u001B[0m\u001B[1;33m[\u001B[0m\u001B[1;33m-\u001B[0m\u001B[0mlen\u001B[0m\u001B[1;33m(\u001B[0m\u001B[0mself\u001B[0m\u001B[1;33m.\u001B[0m\u001B[0m_fetches\u001B[0m\u001B[1;33m)\u001B[0m\u001B[1;33m:\u001B[0m\u001B[1;33m]\u001B[0m\u001B[1;33m)\u001B[0m\u001B[1;33m\u001B[0m\u001B[1;33m\u001B[0m\u001B[0m\n\u001B[0;32m   3294\u001B[0m     output_structure = nest.pack_sequence_as(\n",
      "\u001B[1;32m~\\anaconda3\\envs\\fe690\\lib\\site-packages\\tensorflow\\python\\client\\session.py\u001B[0m in \u001B[0;36m__call__\u001B[1;34m(self, *args, **kwargs)\u001B[0m\n\u001B[0;32m   1456\u001B[0m         ret = tf_session.TF_SessionRunCallable(self._session._session,\n\u001B[0;32m   1457\u001B[0m                                                \u001B[0mself\u001B[0m\u001B[1;33m.\u001B[0m\u001B[0m_handle\u001B[0m\u001B[1;33m,\u001B[0m \u001B[0margs\u001B[0m\u001B[1;33m,\u001B[0m\u001B[1;33m\u001B[0m\u001B[1;33m\u001B[0m\u001B[0m\n\u001B[1;32m-> 1458\u001B[1;33m                                                run_metadata_ptr)\n\u001B[0m\u001B[0;32m   1459\u001B[0m         \u001B[1;32mif\u001B[0m \u001B[0mrun_metadata\u001B[0m\u001B[1;33m:\u001B[0m\u001B[1;33m\u001B[0m\u001B[1;33m\u001B[0m\u001B[0m\n\u001B[0;32m   1460\u001B[0m           \u001B[0mproto_data\u001B[0m \u001B[1;33m=\u001B[0m \u001B[0mtf_session\u001B[0m\u001B[1;33m.\u001B[0m\u001B[0mTF_GetBuffer\u001B[0m\u001B[1;33m(\u001B[0m\u001B[0mrun_metadata_ptr\u001B[0m\u001B[1;33m)\u001B[0m\u001B[1;33m\u001B[0m\u001B[1;33m\u001B[0m\u001B[0m\n",
      "\u001B[1;31mKeyboardInterrupt\u001B[0m: "
     ]
    }
   ]
  },
  {
   "cell_type": "code",
   "metadata": {
    "colab": {
     "base_uri": "https://localhost:8080/"
    },
    "id": "Wbdb65jLNB8f",
    "executionInfo": {
     "status": "ok",
     "timestamp": 1606951067942,
     "user_tz": 300,
     "elapsed": 113830,
     "user": {
      "displayName": "Theo Dimitrasopoulos",
      "photoUrl": "https://lh3.googleusercontent.com/a-/AOh14GhRNhCMR9OSve5rpYHqQ5AxXHb4FT75fg51p-tfkA=s64",
      "userId": "13959094896036405890"
     }
    },
    "outputId": "3cd1f557-2a7c-42ed-fa13-650cb90284b7"
   },
   "source": [
    "portfolio_nn = Sequential()\n",
    "portfolio_nn.add(Dense(1, input_shape=(1,), activation='sigmoid'))\n",
    "portfolio_nn.add(Dense(3, activation='sigmoid'))\n",
    "portfolio_nn.add(Dense(3, activation='sigmoid'))\n",
    "portfolio_nn.add(Dense(3, activation='sigmoid'))\n",
    "portfolio_nn.add(Dense(1, activation='sigmoid'))\n",
    "portfolio_nn.compile(optimizer='rmsprop',loss='hinge',metrics=['accuracy'])\n",
    "portfolio_nn.fit(X_train.values, y_train.values, epochs=500)\n",
    "y_predicted = portfolio_nn.predict(X_test.values)\n",
    "y_predicted = np.around(y_predicted, 0)\n",
    "print('Test Accuracy: %.2f' % accuracy_score(y_test, y_predicted.round()))"
   ],
   "execution_count": null,
   "outputs": []
  }
 ]
}